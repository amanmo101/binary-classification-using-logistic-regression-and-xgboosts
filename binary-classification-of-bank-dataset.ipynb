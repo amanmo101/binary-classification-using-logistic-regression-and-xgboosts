{
 "cells": [
  {
   "cell_type": "markdown",
   "id": "0dc0f415",
   "metadata": {
    "papermill": {
     "duration": 0.003418,
     "end_time": "2025-08-15T03:41:47.716148",
     "exception": false,
     "start_time": "2025-08-15T03:41:47.712730",
     "status": "completed"
    },
    "tags": []
   },
   "source": [
    "## Binary Classification for Bank Dataset\n",
    "\n",
    "This project aims to classify whether a client will subscribe to a bank term deposit. The Logistic Regression and XGBoost Models will be used for predictive modeling. The libraries Pandas, Numpy, Matplotlib will be used for data preprocessing and data visualization. XGBoost and Sklearn will be used for Model Selection and Training as well as Performance Metrics which will be evaluated using Accuracy, ROC AUC, Precision, F1-Score and Recall."
   ]
  },
  {
   "cell_type": "code",
   "execution_count": 1,
   "id": "0f9c2c49",
   "metadata": {
    "execution": {
     "iopub.execute_input": "2025-08-15T03:41:47.725172Z",
     "iopub.status.busy": "2025-08-15T03:41:47.724741Z",
     "iopub.status.idle": "2025-08-15T03:41:53.625521Z",
     "shell.execute_reply": "2025-08-15T03:41:53.624207Z"
    },
    "papermill": {
     "duration": 5.907949,
     "end_time": "2025-08-15T03:41:53.627635",
     "exception": false,
     "start_time": "2025-08-15T03:41:47.719686",
     "status": "completed"
    },
    "tags": []
   },
   "outputs": [],
   "source": [
    "# Libraries needed for this project\n",
    "import pandas as pd\n",
    "import numpy as np\n",
    "import matplotlib.pyplot as plt\n",
    "from sklearn.preprocessing import LabelEncoder, StandardScaler\n",
    "from sklearn.model_selection import RandomizedSearchCV, train_test_split\n",
    "from sklearn.linear_model import LogisticRegression\n",
    "from sklearn.metrics import classification_report, confusion_matrix, ConfusionMatrixDisplay, accuracy_score\n",
    "from xgboost import XGBClassifier"
   ]
  },
  {
   "cell_type": "code",
   "execution_count": 2,
   "id": "0b4efa7f",
   "metadata": {
    "execution": {
     "iopub.execute_input": "2025-08-15T03:41:53.635580Z",
     "iopub.status.busy": "2025-08-15T03:41:53.634995Z",
     "iopub.status.idle": "2025-08-15T03:41:59.079487Z",
     "shell.execute_reply": "2025-08-15T03:41:59.077808Z"
    },
    "papermill": {
     "duration": 5.450728,
     "end_time": "2025-08-15T03:41:59.081477",
     "exception": false,
     "start_time": "2025-08-15T03:41:53.630749",
     "status": "completed"
    },
    "tags": []
   },
   "outputs": [
    {
     "name": "stdout",
     "output_type": "stream",
     "text": [
      "Index(['id', 'age', 'job', 'marital', 'education', 'default', 'balance',\n",
      "       'housing', 'loan', 'contact', 'day', 'month', 'duration', 'campaign',\n",
      "       'pdays', 'previous', 'poutcome', 'y'],\n",
      "      dtype='object')\n"
     ]
    }
   ],
   "source": [
    "# Loading In Data and Preprocessing \n",
    "train = pd.read_csv('/kaggle/input/playground-series-s5e8/train.csv') \n",
    "test = pd.read_csv('/kaggle/input/playground-series-s5e8/test.csv')\n",
    "\n",
    "le = LabelEncoder()\n",
    "\n",
    "for col in train.select_dtypes(include='object').columns:\n",
    "    train[col] = le.fit_transform(train[col])\n",
    "    test[col] = le.fit_transform(test[col])\n",
    "\n",
    "print(train.columns)\n",
    "\n",
    "x = train[train.columns[1:-1]].to_numpy()\n",
    "y = train[train.columns[-1]].to_numpy().ravel() # To create 1-D array"
   ]
  },
  {
   "cell_type": "code",
   "execution_count": 3,
   "id": "da4ce29a",
   "metadata": {
    "execution": {
     "iopub.execute_input": "2025-08-15T03:41:59.089380Z",
     "iopub.status.busy": "2025-08-15T03:41:59.088999Z",
     "iopub.status.idle": "2025-08-15T03:42:00.280047Z",
     "shell.execute_reply": "2025-08-15T03:42:00.278316Z"
    },
    "papermill": {
     "duration": 1.197701,
     "end_time": "2025-08-15T03:42:00.282475",
     "exception": false,
     "start_time": "2025-08-15T03:41:59.084774",
     "status": "completed"
    },
    "tags": []
   },
   "outputs": [
    {
     "name": "stdout",
     "output_type": "stream",
     "text": [
      "                  id            age            job        marital  \\\n",
      "count  750000.000000  750000.000000  750000.000000  750000.000000   \n",
      "mean   374999.500000      40.926395       4.321157       1.160569   \n",
      "std    216506.495284      10.098829       3.256919       0.577240   \n",
      "min         0.000000      18.000000       0.000000       0.000000   \n",
      "25%    187499.750000      33.000000       1.000000       1.000000   \n",
      "50%    374999.500000      39.000000       4.000000       1.000000   \n",
      "75%    562499.250000      48.000000       7.000000       2.000000   \n",
      "max    749999.000000      95.000000      11.000000       2.000000   \n",
      "\n",
      "           education        default        balance        housing  \\\n",
      "count  750000.000000  750000.000000  750000.000000  750000.000000   \n",
      "mean        1.227461       0.017132    1204.067397       0.548384   \n",
      "std         0.705607       0.129763    2836.096759       0.497654   \n",
      "min         0.000000       0.000000   -8019.000000       0.000000   \n",
      "25%         1.000000       0.000000       0.000000       0.000000   \n",
      "50%         1.000000       0.000000     634.000000       1.000000   \n",
      "75%         2.000000       0.000000    1390.000000       1.000000   \n",
      "max         3.000000       1.000000   99717.000000       1.000000   \n",
      "\n",
      "                loan        contact            day          month  \\\n",
      "count  750000.000000  750000.000000  750000.000000  750000.000000   \n",
      "mean        0.139969       0.659963      16.117209       5.430443   \n",
      "std         0.346955       0.917652       8.250832       3.026585   \n",
      "min         0.000000       0.000000       1.000000       0.000000   \n",
      "25%         0.000000       0.000000       9.000000       3.000000   \n",
      "50%         0.000000       0.000000      17.000000       6.000000   \n",
      "75%         0.000000       2.000000      21.000000       8.000000   \n",
      "max         1.000000       2.000000      31.000000      11.000000   \n",
      "\n",
      "            duration       campaign          pdays       previous  \\\n",
      "count  750000.000000  750000.000000  750000.000000  750000.000000   \n",
      "mean      256.229144       2.577008      22.412733       0.298545   \n",
      "std       272.555662       2.718514      77.319998       1.335926   \n",
      "min         1.000000       1.000000      -1.000000       0.000000   \n",
      "25%        91.000000       1.000000      -1.000000       0.000000   \n",
      "50%       133.000000       2.000000      -1.000000       0.000000   \n",
      "75%       361.000000       3.000000      -1.000000       0.000000   \n",
      "max      4918.000000      63.000000     871.000000     200.000000   \n",
      "\n",
      "            poutcome              y  \n",
      "count  750000.000000  750000.000000  \n",
      "mean        2.756635       0.120651  \n",
      "std         0.764445       0.325721  \n",
      "min         0.000000       0.000000  \n",
      "25%         3.000000       0.000000  \n",
      "50%         3.000000       0.000000  \n",
      "75%         3.000000       0.000000  \n",
      "max         3.000000       1.000000  \n",
      "\n",
      "----------\n",
      "\n",
      "<class 'pandas.core.frame.DataFrame'>\n",
      "RangeIndex: 750000 entries, 0 to 749999\n",
      "Data columns (total 18 columns):\n",
      " #   Column     Non-Null Count   Dtype\n",
      "---  ------     --------------   -----\n",
      " 0   id         750000 non-null  int64\n",
      " 1   age        750000 non-null  int64\n",
      " 2   job        750000 non-null  int64\n",
      " 3   marital    750000 non-null  int64\n",
      " 4   education  750000 non-null  int64\n",
      " 5   default    750000 non-null  int64\n",
      " 6   balance    750000 non-null  int64\n",
      " 7   housing    750000 non-null  int64\n",
      " 8   loan       750000 non-null  int64\n",
      " 9   contact    750000 non-null  int64\n",
      " 10  day        750000 non-null  int64\n",
      " 11  month      750000 non-null  int64\n",
      " 12  duration   750000 non-null  int64\n",
      " 13  campaign   750000 non-null  int64\n",
      " 14  pdays      750000 non-null  int64\n",
      " 15  previous   750000 non-null  int64\n",
      " 16  poutcome   750000 non-null  int64\n",
      " 17  y          750000 non-null  int64\n",
      "dtypes: int64(18)\n",
      "memory usage: 103.0 MB\n",
      "None\n",
      "\n",
      "----------\n",
      "\n",
      "(750000, 16) (750000,)\n"
     ]
    },
    {
     "data": {
      "image/png": "[encoded data removed]",
      "text/plain": [
       "<Figure size 640x480 with 1 Axes>"
      ]
     },
     "metadata": {},
     "output_type": "display_data"
    }
   ],
   "source": [
    "# Basic Data Information and Exploratory Data Analysis\n",
    "print(train.describe())\n",
    "print(\"\\n----------\\n\")\n",
    "print(train.info())\n",
    "print(\"\\n----------\\n\")\n",
    "print(x.shape, y.shape)\n",
    "\n",
    "# Scatter Plot of whether first 100 clients subscribed to a term deposit\n",
    "sample = train[:100]\n",
    "\n",
    "class0 = sample[sample['y'] == 0]\n",
    "class1 = sample[sample['y'] == 1]\n",
    "\n",
    "plt.scatter(class0['id'], class0['y'], marker='o', color='blue', label='denied')\n",
    "plt.scatter(class1['id'], class1['y'], marker='x', color='red', label='accepted')\n",
    "\n",
    "plt.xlabel('id')\n",
    "plt.ylabel('outcome')\n",
    "plt.title('First 100 clients')\n",
    "plt.legend()\n",
    "plt.show()"
   ]
  },
  {
   "cell_type": "markdown",
   "id": "bfc24ab6",
   "metadata": {
    "papermill": {
     "duration": 0.004294,
     "end_time": "2025-08-15T03:42:00.290694",
     "exception": false,
     "start_time": "2025-08-15T03:42:00.286400",
     "status": "completed"
    },
    "tags": []
   },
   "source": [
    "## Logistic Regression"
   ]
  },
  {
   "cell_type": "code",
   "execution_count": 4,
   "id": "f58a44fc",
   "metadata": {
    "execution": {
     "iopub.execute_input": "2025-08-15T03:42:00.300730Z",
     "iopub.status.busy": "2025-08-15T03:42:00.300354Z",
     "iopub.status.idle": "2025-08-15T03:49:30.407289Z",
     "shell.execute_reply": "2025-08-15T03:49:30.405586Z"
    },
    "papermill": {
     "duration": 450.115009,
     "end_time": "2025-08-15T03:49:30.410123",
     "exception": false,
     "start_time": "2025-08-15T03:42:00.295114",
     "status": "completed"
    },
    "tags": []
   },
   "outputs": [
    {
     "name": "stderr",
     "output_type": "stream",
     "text": [
      "/usr/local/lib/python3.11/dist-packages/sklearn/linear_model/_sag.py:350: ConvergenceWarning: The max_iter was reached which means the coef_ did not converge\n",
      "  warnings.warn(\n"
     ]
    },
    {
     "name": "stdout",
     "output_type": "stream",
     "text": [
      "              precision    recall  f1-score   support\n",
      "\n",
      "           0       0.91      0.97      0.94    164927\n",
      "           1       0.60      0.31      0.41     22573\n",
      "\n",
      "    accuracy                           0.89    187500\n",
      "   macro avg       0.76      0.64      0.68    187500\n",
      "weighted avg       0.87      0.89      0.88    187500\n",
      "\n"
     ]
    }
   ],
   "source": [
    "# Implementing the model using Sklearn\n",
    "x_train, x_test, y_train, y_test = train_test_split(x, y, test_size = 0.25, random_state = 16)\n",
    "\n",
    "scaler = StandardScaler()\n",
    "x_train_scaled = scaler.fit_transform(x_train)\n",
    "x_test_scaled = scaler.transform(x_test)\n",
    "\n",
    "model = LogisticRegression(solver='saga',max_iter = 1000,tol=1e-4,n_jobs=-1)\n",
    "model.fit(x_train, y_train)\n",
    "\n",
    "y_pred = model.predict(x_test)\n",
    "\n",
    "# Performance Metrics \n",
    "print(classification_report(y_test, y_pred))"
   ]
  },
  {
   "cell_type": "markdown",
   "id": "d6913c00",
   "metadata": {
    "papermill": {
     "duration": 0.004089,
     "end_time": "2025-08-15T03:49:30.418707",
     "exception": false,
     "start_time": "2025-08-15T03:49:30.414618",
     "status": "completed"
    },
    "tags": []
   },
   "source": [
    "## XGBoost"
   ]
  },
  {
   "cell_type": "code",
   "execution_count": 5,
   "id": "89e17bb6",
   "metadata": {
    "execution": {
     "iopub.execute_input": "2025-08-15T03:49:30.441791Z",
     "iopub.status.busy": "2025-08-15T03:49:30.440893Z",
     "iopub.status.idle": "2025-08-15T03:50:44.477441Z",
     "shell.execute_reply": "2025-08-15T03:50:44.475620Z"
    },
    "papermill": {
     "duration": 74.062805,
     "end_time": "2025-08-15T03:50:44.485400",
     "exception": false,
     "start_time": "2025-08-15T03:49:30.422595",
     "status": "completed"
    },
    "tags": []
   },
   "outputs": [
    {
     "name": "stdout",
     "output_type": "stream",
     "text": [
      "Fitting 3 folds for each of 10 candidates, totalling 30 fits\n",
      "              precision    recall  f1-score   support\n",
      "\n",
      "           0       0.96      0.97      0.96    164927\n",
      "           1       0.76      0.67      0.72     22573\n",
      "\n",
      "    accuracy                           0.94    187500\n",
      "   macro avg       0.86      0.82      0.84    187500\n",
      "weighted avg       0.93      0.94      0.93    187500\n",
      "\n"
     ]
    }
   ],
   "source": [
    "# Implementing the model using Sklearn and XGBoost alongside RandomizedSearchCV for hyperparameter tuning\n",
    "xgb = XGBClassifier(random_state = 42)\n",
    "\n",
    "param_grid = {\n",
    "    'n_estimators': [25,50,100],\n",
    "    'max_depth': [4,8,12],\n",
    "    'learning_rate': [0.01,0.1,0.2],\n",
    "}\n",
    "    \n",
    "random_search = RandomizedSearchCV(\n",
    "    estimator=xgb,\n",
    "    param_distributions=param_grid,\n",
    "    n_iter=10,\n",
    "    scoring='accuracy',\n",
    "    cv=3,\n",
    "    verbose=1,\n",
    "    n_jobs=-1,   ## To use all CPU Cores\n",
    ")\n",
    "\n",
    "random_search.fit(x_train, y_train)\n",
    "best_model = random_search.best_estimator_  # Chooses the model with highest accuracy\n",
    "\n",
    "xgb_y_pred = best_model.predict(x_test)\n",
    "\n",
    "# Performance Metrics\n",
    "print(classification_report(y_test,xgb_y_pred))"
   ]
  },
  {
   "cell_type": "markdown",
   "id": "6ef50215",
   "metadata": {
    "papermill": {
     "duration": 0.003411,
     "end_time": "2025-08-15T03:50:44.492938",
     "exception": false,
     "start_time": "2025-08-15T03:50:44.489527",
     "status": "completed"
    },
    "tags": []
   },
   "source": [
    "# Model Evaluation and Visualization"
   ]
  },
  {
   "cell_type": "code",
   "execution_count": 6,
   "id": "abb3118e",
   "metadata": {
    "execution": {
     "iopub.execute_input": "2025-08-15T03:50:44.502483Z",
     "iopub.status.busy": "2025-08-15T03:50:44.502100Z",
     "iopub.status.idle": "2025-08-15T03:50:46.133177Z",
     "shell.execute_reply": "2025-08-15T03:50:46.131536Z"
    },
    "papermill": {
     "duration": 1.6391,
     "end_time": "2025-08-15T03:50:46.135819",
     "exception": false,
     "start_time": "2025-08-15T03:50:44.496719",
     "status": "completed"
    },
    "tags": []
   },
   "outputs": [
    {
     "data": {
      "image/png": "[encoded data removed]",
      "text/plain": [
       "<Figure size 640x480 with 2 Axes>"
      ]
     },
     "metadata": {},
     "output_type": "display_data"
    },
    {
     "data": {
      "image/png": "[encoded data removed]",
      "text/plain": [
       "<Figure size 640x480 with 2 Axes>"
      ]
     },
     "metadata": {},
     "output_type": "display_data"
    },
    {
     "name": "stdout",
     "output_type": "stream",
     "text": [
      "Index(['id', 'y'], dtype='object')\n"
     ]
    }
   ],
   "source": [
    "# Confusion Matrices\n",
    "cm = confusion_matrix(y_test, y_pred)\n",
    "disp = ConfusionMatrixDisplay(confusion_matrix=cm)\n",
    "disp.plot()\n",
    "plt.title(\"Logistic Regression\")\n",
    "plt.show()\n",
    "\n",
    "cm = confusion_matrix(y_test, xgb_y_pred)\n",
    "disp = ConfusionMatrixDisplay(confusion_matrix=cm)\n",
    "disp.plot()\n",
    "plt.title(\"XGBoost\")\n",
    "plt.show()\n",
    "\n",
    "# Writing Probabilities into Submission File\n",
    "test_array = test[test.columns[1:]].to_numpy()\n",
    "z = best_model.predict_proba(test_array)[:,1]\n",
    "df = pd.read_csv('/kaggle/input/playground-series-s5e8/sample_submission.csv')\n",
    "print(df.columns)\n",
    "df['y'] = z\n",
    "df.to_csv('submission.csv',index=False) "
   ]
  }
 ],
 "metadata": {
  "kaggle": {
   "accelerator": "none",
   "dataSources": [
    {
     "databundleVersionId": 12937777,
     "sourceId": 91719,
     "sourceType": "competition"
    }
   ],
   "dockerImageVersionId": 31089,
   "isGpuEnabled": false,
   "isInternetEnabled": false,
   "language": "python",
   "sourceType": "notebook"
  },
  "kernelspec": {
   "display_name": "Python 3",
   "language": "python",
   "name": "python3"
  },
  "language_info": {
   "codemirror_mode": {
    "name": "ipython",
    "version": 3
   },
   "file_extension": ".py",
   "mimetype": "text/x-python",
   "name": "python",
   "nbconvert_exporter": "python",
   "pygments_lexer": "ipython3",
   "version": "3.11.13"
  },
  "papermill": {
   "default_parameters": {},
   "duration": 549.950567,
   "end_time": "2025-08-15T03:50:48.766167",
   "environment_variables": {},
   "exception": null,
   "input_path": "__notebook__.ipynb",
   "output_path": "__notebook__.ipynb",
   "parameters": {},
   "start_time": "2025-08-15T03:41:38.815600",
   "version": "2.6.0"
  }
 },
 "nbformat": 4,
 "nbformat_minor": 5
}
